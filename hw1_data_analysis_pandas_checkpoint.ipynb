{
  "cells": [
    {
      "cell_type": "markdown",
      "metadata": {
        "id": "view-in-github",
        "colab_type": "text"
      },
      "source": [
        "<a href=\"https://colab.research.google.com/github/Sepren/MachineLearning/blob/main/hw1_data_analysis_pandas_checkpoint.ipynb\" target=\"_parent\"><img src=\"https://colab.research.google.com/assets/colab-badge.svg\" alt=\"Open In Colab\"/></a>"
      ]
    },
    {
      "cell_type": "markdown",
      "metadata": {
        "id": "Mn1LGvzeFKAb"
      },
      "source": [
        "# <center> Домашнее задание № 1\n",
        "## <center> Анализ данных по сердечно-сосудистым заболеваниям"
      ]
    },
    {
      "cell_type": "markdown",
      "metadata": {
        "id": "HZ0CZm4pFKAf"
      },
      "source": [
        "**В задании предлагается с помощью Pandas ответить на несколько вопросов по данным о сердечно-сосудистых заболеваниях (в репозитории в папке data есть текстовик с ссылкой, выгрузите в эту же папку весь архив, чтобы код работал). Данные использовались в соревновании [Ml Boot Camp 5](http://mlbootcamp.ru/round/12/sandbox/).**\n",
        "\n",
        "**Заполните код в клетках (где написано \"Ваш код здесь\") и ответьте на вопросы в [веб-форме](https://docs.google.com/forms/d/1NPMIal9jOQzBhy3KEc05rqUUMm228im3z5L2KZ-Jv_4/edit?usp=sharing).**"
      ]
    },
    {
      "cell_type": "markdown",
      "metadata": {
        "id": "j3A2KgOrFKAg"
      },
      "source": [
        "В соревновании предлагалось определить наличие/отсутствие сердечно-сосудистых заболеваний (ССЗ) по результатам осмотра пациента.\n",
        "\n",
        "**Описание данных.**\n",
        "\n",
        "Датасет сформирован из реальных клинических анализов, и в нём используются признаки, которые можно разбить на 3 группы:\n",
        "\n",
        "Объективные признаки:\n",
        "\n",
        " - Возраст (age)\n",
        " - Рост (height)\n",
        " - Вес (weight)\n",
        " - Пол (gender)\n",
        "\n",
        "\n",
        "Результаты измерения:\n",
        "\n",
        " - Артериальное давление верхнее и нижнее (ap_hi, ap_lo)\n",
        " - Холестерин (cholesterol)\n",
        " - Глюкоза (gluc)\n",
        "\n",
        "\n",
        "Субъективные признаки (со слов пациентов):\n",
        "\n",
        " - Курение (smoke)\n",
        " - Употребление алкоголя (alco)\n",
        " - Физическая активность (active)\n",
        "\n",
        "Целевой признак (который интересно будет прогнозировать):\n",
        " - Наличие сердечно-сосудистых заболеваний по результатам классического врачебного осмотра (cardio)\n",
        "\n",
        "Значения показателей холестерина и глюкозы представлены одним из трех классов: норма, выше нормы, значительно выше нормы. Значения субъективных признаков — бинарны.\n",
        "\n",
        "Все показатели даны на момент осмотра.\n",
        "\n",
        "Мы будем работать только с обучающей выборкой и с помощью `Pandas` проведем первичный анализ данных."
      ]
    },
    {
      "cell_type": "markdown",
      "metadata": {
        "id": "A9g_KNbKFKAh"
      },
      "source": [
        "Из библиотек нам понадобятся только `NumPy` и `Pandas`."
      ]
    },
    {
      "cell_type": "code",
      "execution_count": 2,
      "metadata": {
        "collapsed": true,
        "id": "pEj28GT4FKAh"
      },
      "outputs": [],
      "source": [
        "import numpy as np\n",
        "import pandas as pd"
      ]
    },
    {
      "cell_type": "markdown",
      "metadata": {
        "id": "P1z4swLWFKAi"
      },
      "source": [
        "Считываем данные из CSV-файла в объект pandas DataFrame.  "
      ]
    },
    {
      "cell_type": "code",
      "execution_count": 4,
      "metadata": {
        "collapsed": true,
        "id": "siI6t7WRFKAj"
      },
      "outputs": [],
      "source": [
        "df = pd.read_csv('mlbootcamp5_train.csv', sep=';',\n",
        "                 index_col='id')"
      ]
    },
    {
      "cell_type": "markdown",
      "metadata": {
        "id": "t9mVaSw9FKAj"
      },
      "source": [
        "Посмотрим на первые 5 записей."
      ]
    },
    {
      "cell_type": "code",
      "execution_count": 5,
      "metadata": {
        "colab": {
          "base_uri": "https://localhost:8080/",
          "height": 237
        },
        "id": "b1kl5_mvFKAk",
        "outputId": "dd652fb0-b9d6-4661-b1bd-a72e03765b45"
      },
      "outputs": [
        {
          "output_type": "execute_result",
          "data": {
            "text/plain": [
              "      age  gender  height  weight  ap_hi  ap_lo  cholesterol  gluc  smoke  \\\n",
              "id                                                                          \n",
              "0   18393       2     168    62.0    110     80            1     1      0   \n",
              "1   20228       1     156    85.0    140     90            3     1      0   \n",
              "2   18857       1     165    64.0    130     70            3     1      0   \n",
              "3   17623       2     169    82.0    150    100            1     1      0   \n",
              "4   17474       1     156    56.0    100     60            1     1      0   \n",
              "\n",
              "    alco  active  cardio  \n",
              "id                        \n",
              "0      0       1       0  \n",
              "1      0       1       1  \n",
              "2      0       0       1  \n",
              "3      0       1       1  \n",
              "4      0       0       0  "
            ],
            "text/html": [
              "\n",
              "  <div id=\"df-6a69cbd2-f3e8-414b-bcbd-17abe21de034\" class=\"colab-df-container\">\n",
              "    <div>\n",
              "<style scoped>\n",
              "    .dataframe tbody tr th:only-of-type {\n",
              "        vertical-align: middle;\n",
              "    }\n",
              "\n",
              "    .dataframe tbody tr th {\n",
              "        vertical-align: top;\n",
              "    }\n",
              "\n",
              "    .dataframe thead th {\n",
              "        text-align: right;\n",
              "    }\n",
              "</style>\n",
              "<table border=\"1\" class=\"dataframe\">\n",
              "  <thead>\n",
              "    <tr style=\"text-align: right;\">\n",
              "      <th></th>\n",
              "      <th>age</th>\n",
              "      <th>gender</th>\n",
              "      <th>height</th>\n",
              "      <th>weight</th>\n",
              "      <th>ap_hi</th>\n",
              "      <th>ap_lo</th>\n",
              "      <th>cholesterol</th>\n",
              "      <th>gluc</th>\n",
              "      <th>smoke</th>\n",
              "      <th>alco</th>\n",
              "      <th>active</th>\n",
              "      <th>cardio</th>\n",
              "    </tr>\n",
              "    <tr>\n",
              "      <th>id</th>\n",
              "      <th></th>\n",
              "      <th></th>\n",
              "      <th></th>\n",
              "      <th></th>\n",
              "      <th></th>\n",
              "      <th></th>\n",
              "      <th></th>\n",
              "      <th></th>\n",
              "      <th></th>\n",
              "      <th></th>\n",
              "      <th></th>\n",
              "      <th></th>\n",
              "    </tr>\n",
              "  </thead>\n",
              "  <tbody>\n",
              "    <tr>\n",
              "      <th>0</th>\n",
              "      <td>18393</td>\n",
              "      <td>2</td>\n",
              "      <td>168</td>\n",
              "      <td>62.0</td>\n",
              "      <td>110</td>\n",
              "      <td>80</td>\n",
              "      <td>1</td>\n",
              "      <td>1</td>\n",
              "      <td>0</td>\n",
              "      <td>0</td>\n",
              "      <td>1</td>\n",
              "      <td>0</td>\n",
              "    </tr>\n",
              "    <tr>\n",
              "      <th>1</th>\n",
              "      <td>20228</td>\n",
              "      <td>1</td>\n",
              "      <td>156</td>\n",
              "      <td>85.0</td>\n",
              "      <td>140</td>\n",
              "      <td>90</td>\n",
              "      <td>3</td>\n",
              "      <td>1</td>\n",
              "      <td>0</td>\n",
              "      <td>0</td>\n",
              "      <td>1</td>\n",
              "      <td>1</td>\n",
              "    </tr>\n",
              "    <tr>\n",
              "      <th>2</th>\n",
              "      <td>18857</td>\n",
              "      <td>1</td>\n",
              "      <td>165</td>\n",
              "      <td>64.0</td>\n",
              "      <td>130</td>\n",
              "      <td>70</td>\n",
              "      <td>3</td>\n",
              "      <td>1</td>\n",
              "      <td>0</td>\n",
              "      <td>0</td>\n",
              "      <td>0</td>\n",
              "      <td>1</td>\n",
              "    </tr>\n",
              "    <tr>\n",
              "      <th>3</th>\n",
              "      <td>17623</td>\n",
              "      <td>2</td>\n",
              "      <td>169</td>\n",
              "      <td>82.0</td>\n",
              "      <td>150</td>\n",
              "      <td>100</td>\n",
              "      <td>1</td>\n",
              "      <td>1</td>\n",
              "      <td>0</td>\n",
              "      <td>0</td>\n",
              "      <td>1</td>\n",
              "      <td>1</td>\n",
              "    </tr>\n",
              "    <tr>\n",
              "      <th>4</th>\n",
              "      <td>17474</td>\n",
              "      <td>1</td>\n",
              "      <td>156</td>\n",
              "      <td>56.0</td>\n",
              "      <td>100</td>\n",
              "      <td>60</td>\n",
              "      <td>1</td>\n",
              "      <td>1</td>\n",
              "      <td>0</td>\n",
              "      <td>0</td>\n",
              "      <td>0</td>\n",
              "      <td>0</td>\n",
              "    </tr>\n",
              "  </tbody>\n",
              "</table>\n",
              "</div>\n",
              "    <div class=\"colab-df-buttons\">\n",
              "\n",
              "  <div class=\"colab-df-container\">\n",
              "    <button class=\"colab-df-convert\" onclick=\"convertToInteractive('df-6a69cbd2-f3e8-414b-bcbd-17abe21de034')\"\n",
              "            title=\"Convert this dataframe to an interactive table.\"\n",
              "            style=\"display:none;\">\n",
              "\n",
              "  <svg xmlns=\"http://www.w3.org/2000/svg\" height=\"24px\" viewBox=\"0 -960 960 960\">\n",
              "    <path d=\"M120-120v-720h720v720H120Zm60-500h600v-160H180v160Zm220 220h160v-160H400v160Zm0 220h160v-160H400v160ZM180-400h160v-160H180v160Zm440 0h160v-160H620v160ZM180-180h160v-160H180v160Zm440 0h160v-160H620v160Z\"/>\n",
              "  </svg>\n",
              "    </button>\n",
              "\n",
              "  <style>\n",
              "    .colab-df-container {\n",
              "      display:flex;\n",
              "      gap: 12px;\n",
              "    }\n",
              "\n",
              "    .colab-df-convert {\n",
              "      background-color: #E8F0FE;\n",
              "      border: none;\n",
              "      border-radius: 50%;\n",
              "      cursor: pointer;\n",
              "      display: none;\n",
              "      fill: #1967D2;\n",
              "      height: 32px;\n",
              "      padding: 0 0 0 0;\n",
              "      width: 32px;\n",
              "    }\n",
              "\n",
              "    .colab-df-convert:hover {\n",
              "      background-color: #E2EBFA;\n",
              "      box-shadow: 0px 1px 2px rgba(60, 64, 67, 0.3), 0px 1px 3px 1px rgba(60, 64, 67, 0.15);\n",
              "      fill: #174EA6;\n",
              "    }\n",
              "\n",
              "    .colab-df-buttons div {\n",
              "      margin-bottom: 4px;\n",
              "    }\n",
              "\n",
              "    [theme=dark] .colab-df-convert {\n",
              "      background-color: #3B4455;\n",
              "      fill: #D2E3FC;\n",
              "    }\n",
              "\n",
              "    [theme=dark] .colab-df-convert:hover {\n",
              "      background-color: #434B5C;\n",
              "      box-shadow: 0px 1px 3px 1px rgba(0, 0, 0, 0.15);\n",
              "      filter: drop-shadow(0px 1px 2px rgba(0, 0, 0, 0.3));\n",
              "      fill: #FFFFFF;\n",
              "    }\n",
              "  </style>\n",
              "\n",
              "    <script>\n",
              "      const buttonEl =\n",
              "        document.querySelector('#df-6a69cbd2-f3e8-414b-bcbd-17abe21de034 button.colab-df-convert');\n",
              "      buttonEl.style.display =\n",
              "        google.colab.kernel.accessAllowed ? 'block' : 'none';\n",
              "\n",
              "      async function convertToInteractive(key) {\n",
              "        const element = document.querySelector('#df-6a69cbd2-f3e8-414b-bcbd-17abe21de034');\n",
              "        const dataTable =\n",
              "          await google.colab.kernel.invokeFunction('convertToInteractive',\n",
              "                                                    [key], {});\n",
              "        if (!dataTable) return;\n",
              "\n",
              "        const docLinkHtml = 'Like what you see? Visit the ' +\n",
              "          '<a target=\"_blank\" href=https://colab.research.google.com/notebooks/data_table.ipynb>data table notebook</a>'\n",
              "          + ' to learn more about interactive tables.';\n",
              "        element.innerHTML = '';\n",
              "        dataTable['output_type'] = 'display_data';\n",
              "        await google.colab.output.renderOutput(dataTable, element);\n",
              "        const docLink = document.createElement('div');\n",
              "        docLink.innerHTML = docLinkHtml;\n",
              "        element.appendChild(docLink);\n",
              "      }\n",
              "    </script>\n",
              "  </div>\n",
              "\n",
              "\n",
              "<div id=\"df-7211960a-eab9-4e24-9c54-e763ef25a846\">\n",
              "  <button class=\"colab-df-quickchart\" onclick=\"quickchart('df-7211960a-eab9-4e24-9c54-e763ef25a846')\"\n",
              "            title=\"Suggest charts.\"\n",
              "            style=\"display:none;\">\n",
              "\n",
              "<svg xmlns=\"http://www.w3.org/2000/svg\" height=\"24px\"viewBox=\"0 0 24 24\"\n",
              "     width=\"24px\">\n",
              "    <g>\n",
              "        <path d=\"M19 3H5c-1.1 0-2 .9-2 2v14c0 1.1.9 2 2 2h14c1.1 0 2-.9 2-2V5c0-1.1-.9-2-2-2zM9 17H7v-7h2v7zm4 0h-2V7h2v10zm4 0h-2v-4h2v4z\"/>\n",
              "    </g>\n",
              "</svg>\n",
              "  </button>\n",
              "\n",
              "<style>\n",
              "  .colab-df-quickchart {\n",
              "      --bg-color: #E8F0FE;\n",
              "      --fill-color: #1967D2;\n",
              "      --hover-bg-color: #E2EBFA;\n",
              "      --hover-fill-color: #174EA6;\n",
              "      --disabled-fill-color: #AAA;\n",
              "      --disabled-bg-color: #DDD;\n",
              "  }\n",
              "\n",
              "  [theme=dark] .colab-df-quickchart {\n",
              "      --bg-color: #3B4455;\n",
              "      --fill-color: #D2E3FC;\n",
              "      --hover-bg-color: #434B5C;\n",
              "      --hover-fill-color: #FFFFFF;\n",
              "      --disabled-bg-color: #3B4455;\n",
              "      --disabled-fill-color: #666;\n",
              "  }\n",
              "\n",
              "  .colab-df-quickchart {\n",
              "    background-color: var(--bg-color);\n",
              "    border: none;\n",
              "    border-radius: 50%;\n",
              "    cursor: pointer;\n",
              "    display: none;\n",
              "    fill: var(--fill-color);\n",
              "    height: 32px;\n",
              "    padding: 0;\n",
              "    width: 32px;\n",
              "  }\n",
              "\n",
              "  .colab-df-quickchart:hover {\n",
              "    background-color: var(--hover-bg-color);\n",
              "    box-shadow: 0 1px 2px rgba(60, 64, 67, 0.3), 0 1px 3px 1px rgba(60, 64, 67, 0.15);\n",
              "    fill: var(--button-hover-fill-color);\n",
              "  }\n",
              "\n",
              "  .colab-df-quickchart-complete:disabled,\n",
              "  .colab-df-quickchart-complete:disabled:hover {\n",
              "    background-color: var(--disabled-bg-color);\n",
              "    fill: var(--disabled-fill-color);\n",
              "    box-shadow: none;\n",
              "  }\n",
              "\n",
              "  .colab-df-spinner {\n",
              "    border: 2px solid var(--fill-color);\n",
              "    border-color: transparent;\n",
              "    border-bottom-color: var(--fill-color);\n",
              "    animation:\n",
              "      spin 1s steps(1) infinite;\n",
              "  }\n",
              "\n",
              "  @keyframes spin {\n",
              "    0% {\n",
              "      border-color: transparent;\n",
              "      border-bottom-color: var(--fill-color);\n",
              "      border-left-color: var(--fill-color);\n",
              "    }\n",
              "    20% {\n",
              "      border-color: transparent;\n",
              "      border-left-color: var(--fill-color);\n",
              "      border-top-color: var(--fill-color);\n",
              "    }\n",
              "    30% {\n",
              "      border-color: transparent;\n",
              "      border-left-color: var(--fill-color);\n",
              "      border-top-color: var(--fill-color);\n",
              "      border-right-color: var(--fill-color);\n",
              "    }\n",
              "    40% {\n",
              "      border-color: transparent;\n",
              "      border-right-color: var(--fill-color);\n",
              "      border-top-color: var(--fill-color);\n",
              "    }\n",
              "    60% {\n",
              "      border-color: transparent;\n",
              "      border-right-color: var(--fill-color);\n",
              "    }\n",
              "    80% {\n",
              "      border-color: transparent;\n",
              "      border-right-color: var(--fill-color);\n",
              "      border-bottom-color: var(--fill-color);\n",
              "    }\n",
              "    90% {\n",
              "      border-color: transparent;\n",
              "      border-bottom-color: var(--fill-color);\n",
              "    }\n",
              "  }\n",
              "</style>\n",
              "\n",
              "  <script>\n",
              "    async function quickchart(key) {\n",
              "      const quickchartButtonEl =\n",
              "        document.querySelector('#' + key + ' button');\n",
              "      quickchartButtonEl.disabled = true;  // To prevent multiple clicks.\n",
              "      quickchartButtonEl.classList.add('colab-df-spinner');\n",
              "      try {\n",
              "        const charts = await google.colab.kernel.invokeFunction(\n",
              "            'suggestCharts', [key], {});\n",
              "      } catch (error) {\n",
              "        console.error('Error during call to suggestCharts:', error);\n",
              "      }\n",
              "      quickchartButtonEl.classList.remove('colab-df-spinner');\n",
              "      quickchartButtonEl.classList.add('colab-df-quickchart-complete');\n",
              "    }\n",
              "    (() => {\n",
              "      let quickchartButtonEl =\n",
              "        document.querySelector('#df-7211960a-eab9-4e24-9c54-e763ef25a846 button');\n",
              "      quickchartButtonEl.style.display =\n",
              "        google.colab.kernel.accessAllowed ? 'block' : 'none';\n",
              "    })();\n",
              "  </script>\n",
              "</div>\n",
              "    </div>\n",
              "  </div>\n"
            ]
          },
          "metadata": {},
          "execution_count": 5
        }
      ],
      "source": [
        "df.head()"
      ]
    },
    {
      "cell_type": "markdown",
      "metadata": {
        "id": "vt45_T2gFKAk"
      },
      "source": [
        "**<font color='red'>Вопрос 1 (1 балл).</font> Сколько мужчин и женщин представлено в этом наборе данных? Не было дано расшифровки признака \"пол\" (какому полу соответствует 1, а какому – 2 в признаке ``gender``) – это определите, посмотрев также на рост при разумном предположении, что в среднем мужчины выше (здесь и далее под средним понимается среднее арифметическое).**"
      ]
    },
    {
      "cell_type": "markdown",
      "metadata": {
        "id": "YpkflZIgFKAl"
      },
      "source": [
        "**<font color='red'>Варианты:</font>**\n",
        "- 45470 женщин и 24530 мужчин\n",
        "- 45470 мужчин и 24530 женщин\n",
        "- 45530 женщин и 24470 мужчин\n",
        "- 45530 мужчин и 24470 женщин"
      ]
    },
    {
      "cell_type": "code",
      "execution_count": 8,
      "metadata": {
        "collapsed": true,
        "colab": {
          "base_uri": "https://localhost:8080/"
        },
        "id": "TU6631lxFKAl",
        "outputId": "e0d3c802-0536-4093-e5cb-7098d666e1c5"
      },
      "outputs": [
        {
          "output_type": "execute_result",
          "data": {
            "text/plain": [
              "1    45530\n",
              "2    24470\n",
              "Name: gender, dtype: int64"
            ]
          },
          "metadata": {},
          "execution_count": 8
        }
      ],
      "source": [
        "df[\"gender\"].value_counts()\n",
        "# df.groupby('gender').mean()\n",
        "# 2 - муж, 1 - жена"
      ]
    },
    {
      "cell_type": "markdown",
      "metadata": {
        "id": "N_YgI4S3FKAl"
      },
      "source": [
        "**<font color='red'>Вопрос 2 (1 балл).</font> Кто в среднем реже указывает, что употребляет алкоголь – мужчины или женщины?**"
      ]
    },
    {
      "cell_type": "markdown",
      "metadata": {
        "id": "YRaVh3nbFKAl"
      },
      "source": [
        "**<font color='red'>Варианты:</font>**\n",
        "- мужчины\n",
        "- женщины"
      ]
    },
    {
      "cell_type": "code",
      "execution_count": 7,
      "metadata": {
        "collapsed": true,
        "colab": {
          "base_uri": "https://localhost:8080/"
        },
        "id": "07XIaqIZFKAl",
        "outputId": "5f4565cb-97d6-4515-ee0b-b8bde92b6049"
      },
      "outputs": [
        {
          "output_type": "execute_result",
          "data": {
            "text/plain": [
              "(0.8936248467511239, 0.9745003294531078)"
            ]
          },
          "metadata": {},
          "execution_count": 7
        }
      ],
      "source": [
        "df.query('alco==0 and gender==2').shape[0] / df.query('gender==2').shape[0], df.query('alco==0 and gender==1').shape[0] / df.query('gender==1').shape[0]\n",
        "# женщины"
      ]
    },
    {
      "cell_type": "markdown",
      "metadata": {
        "id": "-1tjRJBxFKAl"
      },
      "source": [
        "**<font color='red'>Вопрос 3 (1 балл).</font> Во сколько раз (округленно, `round`) процент курящих среди мужчин больше, чем процент курящих среди женщин (по крайней мере, по этим анкетным данным)?**"
      ]
    },
    {
      "cell_type": "markdown",
      "metadata": {
        "id": "uYe2UQu8FKAm"
      },
      "source": [
        "**<font color='red'>Варианты:</font>**\n",
        "- 4\n",
        "- 8\n",
        "- 12\n",
        "- 16"
      ]
    },
    {
      "cell_type": "code",
      "execution_count": null,
      "metadata": {
        "collapsed": true,
        "colab": {
          "base_uri": "https://localhost:8080/"
        },
        "id": "lXIcj2oxFKAm",
        "outputId": "c8fe90a0-6d80-4ec0-a3ce-ebff2ae8bfb6"
      },
      "outputs": [
        {
          "output_type": "execute_result",
          "data": {
            "text/plain": [
              "12.257833097333833"
            ]
          },
          "metadata": {},
          "execution_count": 7
        }
      ],
      "source": [
        "(df.query('smoke==1 and gender==2').shape[0] / df.query('gender==2').shape[0] * 100) / (df.query('smoke==1 and gender==1').shape[0] / df.query('gender==1').shape[0] * 100)\n",
        "# 12"
      ]
    },
    {
      "cell_type": "markdown",
      "metadata": {
        "id": "BUxDReqAFKAm"
      },
      "source": [
        "**<font color='red'>Вопрос 4 (1 балл).</font> Вы наверняка заметили, что значения возраста какие-то странные. Догадайтесь, в чём здесь измеряется возраст, и ответьте, на сколько месяцев (примерно) отличаются медианные значения возраста курящих и некурящих.**"
      ]
    },
    {
      "cell_type": "markdown",
      "metadata": {
        "id": "Yp6eG5RpFKAm"
      },
      "source": [
        "**<font color='red'>Варианты:</font>**\n",
        "- 10\n",
        "- 15\n",
        "- 20\n",
        "- 25"
      ]
    },
    {
      "cell_type": "code",
      "execution_count": null,
      "metadata": {
        "collapsed": true,
        "colab": {
          "base_uri": "https://localhost:8080/"
        },
        "id": "MrqY0luBFKAm",
        "outputId": "c801c4e0-fd1d-4982-c3fe-407e45c18ae3"
      },
      "outputs": [
        {
          "output_type": "execute_result",
          "data": {
            "text/plain": [
              "age           -13.629495\n",
              "gender          6.825181\n",
              "height         65.333538\n",
              "weight         41.303991\n",
              "ap_hi          -6.011025\n",
              "ap_lo          41.375615\n",
              "cholesterol     0.298159\n",
              "gluc           -0.115223\n",
              "smoke          12.000000\n",
              "alco            3.247346\n",
              "active          0.434744\n",
              "cardio         -0.327766\n",
              "dtype: float64"
            ]
          },
          "metadata": {},
          "execution_count": 13
        }
      ],
      "source": [
        "df.query('smoke==1').mean() * 12 - df.query('smoke==0').mean() * 12\n",
        "# 15"
      ]
    },
    {
      "cell_type": "markdown",
      "metadata": {
        "id": "qisa3RXbFKAm"
      },
      "source": [
        "**<font color='red'>Вопрос 5 (2 балла).</font> В [статье](https://ru.wikipedia.org/wiki/Сердечно-сосудистый_риск) на Википедии про сердечно-сосудистый риск показана шкала SCORE для расчёта риска смерти от сердечно-сосудистого заболевания в ближайшие 10 лет. Вот она:**\n",
        "<img src='https://habrastorage.org/webt/gg/38/vf/gg38vfl5ql8obqjmlsvt9es76p8.png' width=70%>\n",
        "\n",
        "Давайте посмотрим на правый верхний прямоугольник, отображающий сегмент курящих мужчин в возрасте от 60 до 64 лет включительно. (Неочевидно, но тут для возраста и давления цифры означают верхнюю границу, и она не включается).\n",
        "\n",
        "Видим 9-ку в левом нижнем углу этого прямоугольника и 47 – в правом верхнем. То есть если при этом систолическое (т.е. верхнее) артериальное давление – меньше 120 мм рт.ст., а уровень холестерина – 4 ммоль/л, то риск ССЗ оценивается примерно в 5 раз ниже, чем если бы давление лежало в интервале [160, 180), а холестерина было бы 8 ммоль/л.\n",
        "\n",
        "Давайте посчитаем аналогичное значение, но на наших данных.\n",
        "\n",
        "Уточнения:\n",
        "- Создайте новый признак ``age_years`` – возраст в годах, округлив до целых (`round`). Для данного примера отберите курящих мужчин от 60 до 64 лет включительно\n",
        "- Категории уровня холестрина на рисунке и в наших данных отличаются. Отображение значений на картинке в значения признака ``cholesterol`` следующее: 4 ммоль/л $\\rightarrow$ 1, 5-7 ммоль/л $\\rightarrow$ 2, 8 ммоль/л $\\rightarrow$ 3.\n",
        "- Интересуют 2 подвыборки курящих мужчин возраста от 60 до 64 лет включительно: первая с верхним артериальным давлением строго меньше 120 мм рт.ст. и концентрацией холестерина – 4 ммоль/л, а вторая – с верхним артериальным давлением от 160 (включительно) до 180 мм рт.ст. (не включительно) и концентрацией холестерина – 8 ммоль/л.\n",
        "\n",
        "Во сколько раз (округленно, `round`) отличаются доли больных людей (согласно целевому признаку, `cardio`) в этих двух подвыборках? Посчитайте на наших данных."
      ]
    },
    {
      "cell_type": "markdown",
      "metadata": {
        "id": "QXUa6RKBFKAm"
      },
      "source": [
        "**<font color='red'>Варианты:</font>**\n",
        "- 2\n",
        "- 3\n",
        "- 4\n",
        "- 5"
      ]
    },
    {
      "cell_type": "code",
      "execution_count": 2,
      "metadata": {
        "collapsed": true,
        "id": "d3NiZBB9FKAn",
        "colab": {
          "base_uri": "https://localhost:8080/",
          "height": 91
        },
        "outputId": "85a52d79-ea1e-4c53-c4dd-e63ff98face5"
      },
      "outputs": [
        {
          "output_type": "execute_result",
          "data": {
            "text/plain": [
              "\"\\ndf['age_years'] = (df['age'] / 365.25).round().astype(int)\\n\\nfiltered_df = df[(df['gender'] == male_gender) & (df['smoke'] == 1) & (df['age_years'] >= 60) & (df['age_years'] <= 64)]\\n\\nsubset1 = filtered_df[(filtered_df['ap_hi'] < 120) & (filtered_df['cholesterol'] == 1)]\\n\\nsubset2 = filtered_df[(filtered_df['ap_hi'] >= 160) & (filtered_df['ap_hi'] < 180) & (filtered_df['cholesterol'] == 3)]\\n\\nratio1 = subset1['cardio'].mean()\\nratio2 = subset2['cardio'].mean()\\n\\ndifference_ratio = round(ratio2 / ratio1)\\nprint(difference_ratio)\\n\""
            ],
            "application/vnd.google.colaboratory.intrinsic+json": {
              "type": "string"
            }
          },
          "metadata": {},
          "execution_count": 2
        }
      ],
      "source": [
        "\"\"\"\n",
        "df['age_years'] = (df['age'] / 365.25).round().astype(int)\n",
        "\n",
        "filtered_df = df[(df['gender'] == male_gender) & (df['smoke'] == 1) & (df['age_years'] >= 60) & (df['age_years'] <= 64)]\n",
        "\n",
        "subset1 = filtered_df[(filtered_df['ap_hi'] < 120) & (filtered_df['cholesterol'] == 1)]\n",
        "\n",
        "subset2 = filtered_df[(filtered_df['ap_hi'] >= 160) & (filtered_df['ap_hi'] < 180) & (filtered_df['cholesterol'] == 3)]\n",
        "\n",
        "ratio1 = subset1['cardio'].mean()\n",
        "ratio2 = subset2['cardio'].mean()\n",
        "\n",
        "difference_ratio = round(ratio2 / ratio1)\n",
        "print(difference_ratio)\n",
        "\"\"\""
      ]
    },
    {
      "cell_type": "markdown",
      "metadata": {
        "id": "Ba0vtHc5FKAn"
      },
      "source": [
        "**<font color='red'>Вопрос 6 (2 балла).</font> Постройте новый признак – BMI ([Body Mass Index](https://en.wikipedia.org/wiki/Body_mass_index)). Для этого надо вес в килограммах поделить на квадрат роста в метрах. Нормальными считаются значения BMI от 18.5 до 25. Выберите верные утверждения.**"
      ]
    },
    {
      "cell_type": "markdown",
      "metadata": {
        "id": "hN2DQQ44FKAn"
      },
      "source": [
        "**<font color='red'>Утверждения:</font>**\n",
        "- Медианный BMI по выборке превышает норму\n",
        "- У женщин в среднем BMI ниже, чем у мужчин\n",
        "- У здоровых в среднем BMI выше, чем у больных\n",
        "- В сегменте здоровых и непьющих мужчин в среднем BMI ближе к норме, чем в сегменте здоровых и непьющих женщин"
      ]
    },
    {
      "cell_type": "code",
      "execution_count": 11,
      "metadata": {
        "collapsed": true,
        "colab": {
          "base_uri": "https://localhost:8080/"
        },
        "id": "IovuSKiwFKAn",
        "outputId": "60420915-244f-45cb-aa2a-1f7341132b2a"
      },
      "outputs": [
        {
          "output_type": "execute_result",
          "data": {
            "text/plain": [
              "(age            19510.124577\n",
              " gender             1.000000\n",
              " height           161.355612\n",
              " weight            72.565605\n",
              " ap_hi            128.139249\n",
              " ap_lo             94.522776\n",
              " cholesterol        1.384735\n",
              " gluc               1.235054\n",
              " smoke              0.017856\n",
              " alco               0.025500\n",
              " active             0.802021\n",
              " cardio             0.496727\n",
              " BMI               27.987583\n",
              " dtype: float64,\n",
              " age            19392.097875\n",
              " gender             2.000000\n",
              " height           169.947895\n",
              " weight            77.257307\n",
              " ap_hi            130.078872\n",
              " ap_lo            100.551982\n",
              " cholesterol        1.333633\n",
              " gluc               1.210462\n",
              " smoke              0.218880\n",
              " alco               0.106375\n",
              " active             0.806906\n",
              " cardio             0.505231\n",
              " BMI               26.754442\n",
              " dtype: float64)"
            ]
          },
          "metadata": {},
          "execution_count": 11
        }
      ],
      "source": [
        "df[\"BMI\"] = df[\"weight\"] / ((df[\"height\"] / 100) ** 2)\n",
        "df.BMI.mean()\n",
        "df.query('gender==1').mean(), df.query('gender==2').mean()\n",
        "\n",
        "\"\"\"\n",
        "df['height_m'] = df['height'] / 100\n",
        "\n",
        "df['BMI'] = df['weight'] / (df['height_m'] ** 2)\n",
        "\n",
        "median_bmi = df['BMI'].median()\n",
        "\n",
        "average_bmi_women = df[df['gender'] == female_gender]['BMI'].mean()\n",
        "average_bmi_men = df[df['gender'] == male_gender]['BMI'].mean()\n",
        "\n",
        "average_bmi_healthy = df[df['cardio'] == 0]['BMI'].mean()\n",
        "average_bmi_sick = df[df['cardio'] == 1]['BMI'].mean()\n",
        "\n",
        "average_bmi_healthy_non_alco_men = df[(df['cardio'] == 0) & (df['alco'] == 0) & (df['gender'] == male_gender)]['BMI'].mean()\n",
        "average_bmi_healthy_non_alco_women = df[(df['cardio'] == 0) & (df['alco'] == 0) & (df['gender'] == female_gender)]['BMI'].mean()\n",
        "\n",
        "print(f\"Медианный BMI: {median_bmi}\")\n",
        "print(f\"Средний BMI для женщин: {average_bmi_women}\")\n",
        "print(f\"Средний BMI для мужчин: {average_bmi_men}\")\n",
        "print(f\"Средний BMI для здоровых: {average_bmi_healthy}\")\n",
        "print(f\"Средний BMI для больных: {average_bmi_sick}\")\n",
        "print(f\"Средний BMI для здоровых и непьющих мужчин: {average_bmi_healthy_non_alco_men}\")\n",
        "print(f\"Средний BMI для здоровых и непьющих женщин: {average_bmi_healthy_non_alco_women}\")\n",
        "\"\"\""
      ]
    },
    {
      "cell_type": "markdown",
      "metadata": {
        "id": "HLpooID-FKAo"
      },
      "source": [
        "**<font color='red'>Вопрос 7 (2 балла).</font> ** Можно заметить, что данные не особо-то чистые, много в них всякой \"грязи\" и неточностей. Еще лучше мы это увидим, когда обсудим визуализацию данных.\n",
        "\n",
        "Отфильтруйте следующие сегменты пациентов (считаем это ошибками в данных)\n",
        "- указанное нижнее значение артериального давления строго выше верхнего\n",
        "- рост строго меньше 2.5%-перцентили или строго больше 97.5%-перцентили (используйте `pd.Series.quantile`, если не знаете, что это такое – прочитайте)\n",
        "- вес строго меньше 2.5%-перцентили или строго больше 97.5%-перцентили\n",
        "\n",
        "Это вовсе не вся чистка данных, которую можно было проделать, но пока остановимся на этом.\n",
        "\n",
        "Сколько процентов данных (округленно, `round`) мы выбросили?"
      ]
    },
    {
      "cell_type": "markdown",
      "metadata": {
        "id": "O9kTwtJPFKAo"
      },
      "source": [
        "**<font color='red'>Варианты:</font>**\n",
        "- 8\n",
        "- 9\n",
        "- 10\n",
        "- 11"
      ]
    },
    {
      "cell_type": "code",
      "execution_count": null,
      "metadata": {
        "collapsed": true,
        "id": "psW6np25FKAo"
      },
      "outputs": [],
      "source": [
        "\"\"\"\n",
        "initial_count = len(df)\n",
        "df = df[df['ap_lo'] <= df['ap_hi']]\n",
        "lower_bound_height = df['height'].quantile(0.025)\n",
        "upper_bound_height = df['height'].quantile(0.975)\n",
        "df = df[(df['height'] >= lower_bound_height) & (df['height'] <= upper_bound_height)]\n",
        "lower_bound_weight = df['weight'].quantile(0.025)\n",
        "upper_bound_weight = df['weight'].quantile(0.975)\n",
        "df = df[(df['weight'] >= lower_bound_weight) & (df['weight'] <= upper_bound_weight)]\n",
        "final_count = len(df)\n",
        "filtered_percentage = round((initial_count - final_count) / initial_count * 100)\n",
        "print(f\"Процент отфильтрованных данных: {filtered_percentage}%\")\n",
        "\"\"\""
      ]
    }
  ],
  "metadata": {
    "kernelspec": {
      "display_name": "Python 3",
      "language": "python",
      "name": "python3"
    },
    "language_info": {
      "codemirror_mode": {
        "name": "ipython",
        "version": 3
      },
      "file_extension": ".py",
      "mimetype": "text/x-python",
      "name": "python",
      "nbconvert_exporter": "python",
      "pygments_lexer": "ipython3",
      "version": "3.6.3"
    },
    "colab": {
      "provenance": [],
      "include_colab_link": true
    }
  },
  "nbformat": 4,
  "nbformat_minor": 0
}